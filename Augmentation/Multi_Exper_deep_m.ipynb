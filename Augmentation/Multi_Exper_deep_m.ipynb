{
 "cells": [
  {
   "cell_type": "code",
   "execution_count": 18,
   "metadata": {},
   "outputs": [],
   "source": [
    "import pandas as pd \n",
    "import numpy as np\n",
    "\n",
    "import matplotlib.pyplot as plt\n",
    "import seaborn as sns"
   ]
  },
  {
   "cell_type": "markdown",
   "metadata": {},
   "source": [
    "# 4.1. Loading data with linear interpolation."
   ]
  },
  {
   "cell_type": "code",
   "execution_count": 19,
   "metadata": {},
   "outputs": [
    {
     "data": {
      "text/html": [
       "<div>\n",
       "<style scoped>\n",
       "    .dataframe tbody tr th:only-of-type {\n",
       "        vertical-align: middle;\n",
       "    }\n",
       "\n",
       "    .dataframe tbody tr th {\n",
       "        vertical-align: top;\n",
       "    }\n",
       "\n",
       "    .dataframe thead th {\n",
       "        text-align: right;\n",
       "    }\n",
       "</style>\n",
       "<table border=\"1\" class=\"dataframe\">\n",
       "  <thead>\n",
       "    <tr style=\"text-align: right;\">\n",
       "      <th></th>\n",
       "      <th>I</th>\n",
       "      <th>x</th>\n",
       "      <th>y</th>\n",
       "      <th>left_bound</th>\n",
       "      <th>right_bound</th>\n",
       "      <th>down_bound</th>\n",
       "      <th>up_bound</th>\n",
       "      <th>I_x_left</th>\n",
       "      <th>I_x_right</th>\n",
       "      <th>I_y_down</th>\n",
       "      <th>I_y_up</th>\n",
       "      <th>Cu</th>\n",
       "      <th>Ni</th>\n",
       "      <th>Pb</th>\n",
       "      <th>Al</th>\n",
       "      <th>Co</th>\n",
       "      <th>Cr</th>\n",
       "      <th>NO3</th>\n",
       "    </tr>\n",
       "    <tr>\n",
       "      <th>idx</th>\n",
       "      <th></th>\n",
       "      <th></th>\n",
       "      <th></th>\n",
       "      <th></th>\n",
       "      <th></th>\n",
       "      <th></th>\n",
       "      <th></th>\n",
       "      <th></th>\n",
       "      <th></th>\n",
       "      <th></th>\n",
       "      <th></th>\n",
       "      <th></th>\n",
       "      <th></th>\n",
       "      <th></th>\n",
       "      <th></th>\n",
       "      <th></th>\n",
       "      <th></th>\n",
       "      <th></th>\n",
       "    </tr>\n",
       "  </thead>\n",
       "  <tbody>\n",
       "    <tr>\n",
       "      <th>1</th>\n",
       "      <td>1094.013</td>\n",
       "      <td>440.0</td>\n",
       "      <td>350.0</td>\n",
       "      <td>410.997078</td>\n",
       "      <td>483.985513</td>\n",
       "      <td>319.837088</td>\n",
       "      <td>377.141444</td>\n",
       "      <td>32092.946811</td>\n",
       "      <td>55681.420983</td>\n",
       "      <td>7526.354879</td>\n",
       "      <td>6554.217700</td>\n",
       "      <td>0.0</td>\n",
       "      <td>0.0</td>\n",
       "      <td>0.0</td>\n",
       "      <td>0.0</td>\n",
       "      <td>0.0</td>\n",
       "      <td>0.0</td>\n",
       "      <td>0.0</td>\n",
       "    </tr>\n",
       "    <tr>\n",
       "      <th>10</th>\n",
       "      <td>202.294</td>\n",
       "      <td>450.0</td>\n",
       "      <td>350.0</td>\n",
       "      <td>414.577059</td>\n",
       "      <td>498.744699</td>\n",
       "      <td>323.395276</td>\n",
       "      <td>380.964878</td>\n",
       "      <td>6988.960165</td>\n",
       "      <td>10871.964268</td>\n",
       "      <td>1184.090837</td>\n",
       "      <td>1342.087958</td>\n",
       "      <td>0.0</td>\n",
       "      <td>0.0</td>\n",
       "      <td>0.0</td>\n",
       "      <td>0.0</td>\n",
       "      <td>4.5</td>\n",
       "      <td>4.5</td>\n",
       "      <td>22.5</td>\n",
       "    </tr>\n",
       "    <tr>\n",
       "      <th>100</th>\n",
       "      <td>177.025</td>\n",
       "      <td>454.0</td>\n",
       "      <td>355.0</td>\n",
       "      <td>417.197886</td>\n",
       "      <td>502.827048</td>\n",
       "      <td>327.105424</td>\n",
       "      <td>383.454723</td>\n",
       "      <td>6662.354552</td>\n",
       "      <td>9932.300708</td>\n",
       "      <td>1123.217310</td>\n",
       "      <td>1146.207041</td>\n",
       "      <td>0.0</td>\n",
       "      <td>0.0</td>\n",
       "      <td>1.5</td>\n",
       "      <td>3.0</td>\n",
       "      <td>6.0</td>\n",
       "      <td>4.5</td>\n",
       "      <td>37.5</td>\n",
       "    </tr>\n",
       "    <tr>\n",
       "      <th>1000</th>\n",
       "      <td>191.846</td>\n",
       "      <td>455.0</td>\n",
       "      <td>355.0</td>\n",
       "      <td>418.799921</td>\n",
       "      <td>504.925887</td>\n",
       "      <td>327.328667</td>\n",
       "      <td>383.479384</td>\n",
       "      <td>6944.652646</td>\n",
       "      <td>10680.836195</td>\n",
       "      <td>1170.757224</td>\n",
       "      <td>1225.503524</td>\n",
       "      <td>0.0</td>\n",
       "      <td>4.5</td>\n",
       "      <td>0.0</td>\n",
       "      <td>6.0</td>\n",
       "      <td>6.0</td>\n",
       "      <td>4.5</td>\n",
       "      <td>52.5</td>\n",
       "    </tr>\n",
       "    <tr>\n",
       "      <th>1001</th>\n",
       "      <td>631.573</td>\n",
       "      <td>441.0</td>\n",
       "      <td>350.0</td>\n",
       "      <td>411.644120</td>\n",
       "      <td>485.927998</td>\n",
       "      <td>321.419781</td>\n",
       "      <td>377.998183</td>\n",
       "      <td>18644.724966</td>\n",
       "      <td>32540.515302</td>\n",
       "      <td>4147.462148</td>\n",
       "      <td>3894.747976</td>\n",
       "      <td>0.0</td>\n",
       "      <td>4.5</td>\n",
       "      <td>1.5</td>\n",
       "      <td>0.0</td>\n",
       "      <td>0.0</td>\n",
       "      <td>0.0</td>\n",
       "      <td>12.0</td>\n",
       "    </tr>\n",
       "    <tr>\n",
       "      <th>...</th>\n",
       "      <td>...</td>\n",
       "      <td>...</td>\n",
       "      <td>...</td>\n",
       "      <td>...</td>\n",
       "      <td>...</td>\n",
       "      <td>...</td>\n",
       "      <td>...</td>\n",
       "      <td>...</td>\n",
       "      <td>...</td>\n",
       "      <td>...</td>\n",
       "      <td>...</td>\n",
       "      <td>...</td>\n",
       "      <td>...</td>\n",
       "      <td>...</td>\n",
       "      <td>...</td>\n",
       "      <td>...</td>\n",
       "      <td>...</td>\n",
       "      <td>...</td>\n",
       "    </tr>\n",
       "    <tr>\n",
       "      <th>995</th>\n",
       "      <td>246.346</td>\n",
       "      <td>456.0</td>\n",
       "      <td>355.0</td>\n",
       "      <td>418.914238</td>\n",
       "      <td>505.600813</td>\n",
       "      <td>327.041189</td>\n",
       "      <td>383.432359</td>\n",
       "      <td>9085.038092</td>\n",
       "      <td>13701.728784</td>\n",
       "      <td>1521.052042</td>\n",
       "      <td>1555.695514</td>\n",
       "      <td>0.0</td>\n",
       "      <td>4.5</td>\n",
       "      <td>0.0</td>\n",
       "      <td>6.0</td>\n",
       "      <td>3.0</td>\n",
       "      <td>4.5</td>\n",
       "      <td>46.5</td>\n",
       "    </tr>\n",
       "    <tr>\n",
       "      <th>996</th>\n",
       "      <td>399.123</td>\n",
       "      <td>456.0</td>\n",
       "      <td>360.0</td>\n",
       "      <td>422.002086</td>\n",
       "      <td>505.372822</td>\n",
       "      <td>328.436916</td>\n",
       "      <td>390.751460</td>\n",
       "      <td>13991.087131</td>\n",
       "      <td>22430.024973</td>\n",
       "      <td>2782.018995</td>\n",
       "      <td>2715.377589</td>\n",
       "      <td>0.0</td>\n",
       "      <td>4.5</td>\n",
       "      <td>0.0</td>\n",
       "      <td>6.0</td>\n",
       "      <td>4.5</td>\n",
       "      <td>0.0</td>\n",
       "      <td>36.0</td>\n",
       "    </tr>\n",
       "    <tr>\n",
       "      <th>997</th>\n",
       "      <td>256.685</td>\n",
       "      <td>454.0</td>\n",
       "      <td>355.0</td>\n",
       "      <td>417.657632</td>\n",
       "      <td>504.495323</td>\n",
       "      <td>326.466136</td>\n",
       "      <td>383.546410</td>\n",
       "      <td>9514.945313</td>\n",
       "      <td>14770.350457</td>\n",
       "      <td>1663.446831</td>\n",
       "      <td>1668.043184</td>\n",
       "      <td>0.0</td>\n",
       "      <td>4.5</td>\n",
       "      <td>0.0</td>\n",
       "      <td>6.0</td>\n",
       "      <td>4.5</td>\n",
       "      <td>3.0</td>\n",
       "      <td>45.0</td>\n",
       "    </tr>\n",
       "    <tr>\n",
       "      <th>998</th>\n",
       "      <td>198.192</td>\n",
       "      <td>458.0</td>\n",
       "      <td>355.0</td>\n",
       "      <td>419.720741</td>\n",
       "      <td>506.971984</td>\n",
       "      <td>327.135124</td>\n",
       "      <td>383.507781</td>\n",
       "      <td>7526.795281</td>\n",
       "      <td>10797.663587</td>\n",
       "      <td>1207.006519</td>\n",
       "      <td>1253.372564</td>\n",
       "      <td>0.0</td>\n",
       "      <td>4.5</td>\n",
       "      <td>0.0</td>\n",
       "      <td>6.0</td>\n",
       "      <td>4.5</td>\n",
       "      <td>6.0</td>\n",
       "      <td>54.0</td>\n",
       "    </tr>\n",
       "    <tr>\n",
       "      <th>999</th>\n",
       "      <td>281.232</td>\n",
       "      <td>453.0</td>\n",
       "      <td>355.0</td>\n",
       "      <td>417.991531</td>\n",
       "      <td>501.614203</td>\n",
       "      <td>327.423517</td>\n",
       "      <td>384.844608</td>\n",
       "      <td>9689.607027</td>\n",
       "      <td>15181.016128</td>\n",
       "      <td>1695.661665</td>\n",
       "      <td>1826.006307</td>\n",
       "      <td>0.0</td>\n",
       "      <td>4.5</td>\n",
       "      <td>0.0</td>\n",
       "      <td>6.0</td>\n",
       "      <td>6.0</td>\n",
       "      <td>1.5</td>\n",
       "      <td>43.5</td>\n",
       "    </tr>\n",
       "  </tbody>\n",
       "</table>\n",
       "<p>7813 rows × 18 columns</p>\n",
       "</div>"
      ],
      "text/plain": [
       "             I      x      y  left_bound  right_bound  down_bound    up_bound  \\\n",
       "idx                                                                             \n",
       "1     1094.013  440.0  350.0  410.997078   483.985513  319.837088  377.141444   \n",
       "10     202.294  450.0  350.0  414.577059   498.744699  323.395276  380.964878   \n",
       "100    177.025  454.0  355.0  417.197886   502.827048  327.105424  383.454723   \n",
       "1000   191.846  455.0  355.0  418.799921   504.925887  327.328667  383.479384   \n",
       "1001   631.573  441.0  350.0  411.644120   485.927998  321.419781  377.998183   \n",
       "...        ...    ...    ...         ...          ...         ...         ...   \n",
       "995    246.346  456.0  355.0  418.914238   505.600813  327.041189  383.432359   \n",
       "996    399.123  456.0  360.0  422.002086   505.372822  328.436916  390.751460   \n",
       "997    256.685  454.0  355.0  417.657632   504.495323  326.466136  383.546410   \n",
       "998    198.192  458.0  355.0  419.720741   506.971984  327.135124  383.507781   \n",
       "999    281.232  453.0  355.0  417.991531   501.614203  327.423517  384.844608   \n",
       "\n",
       "          I_x_left     I_x_right     I_y_down       I_y_up   Cu   Ni   Pb  \\\n",
       "idx                                                                         \n",
       "1     32092.946811  55681.420983  7526.354879  6554.217700  0.0  0.0  0.0   \n",
       "10     6988.960165  10871.964268  1184.090837  1342.087958  0.0  0.0  0.0   \n",
       "100    6662.354552   9932.300708  1123.217310  1146.207041  0.0  0.0  1.5   \n",
       "1000   6944.652646  10680.836195  1170.757224  1225.503524  0.0  4.5  0.0   \n",
       "1001  18644.724966  32540.515302  4147.462148  3894.747976  0.0  4.5  1.5   \n",
       "...            ...           ...          ...          ...  ...  ...  ...   \n",
       "995    9085.038092  13701.728784  1521.052042  1555.695514  0.0  4.5  0.0   \n",
       "996   13991.087131  22430.024973  2782.018995  2715.377589  0.0  4.5  0.0   \n",
       "997    9514.945313  14770.350457  1663.446831  1668.043184  0.0  4.5  0.0   \n",
       "998    7526.795281  10797.663587  1207.006519  1253.372564  0.0  4.5  0.0   \n",
       "999    9689.607027  15181.016128  1695.661665  1826.006307  0.0  4.5  0.0   \n",
       "\n",
       "       Al   Co   Cr   NO3  \n",
       "idx                        \n",
       "1     0.0  0.0  0.0   0.0  \n",
       "10    0.0  4.5  4.5  22.5  \n",
       "100   3.0  6.0  4.5  37.5  \n",
       "1000  6.0  6.0  4.5  52.5  \n",
       "1001  0.0  0.0  0.0  12.0  \n",
       "...   ...  ...  ...   ...  \n",
       "995   6.0  3.0  4.5  46.5  \n",
       "996   6.0  4.5  0.0  36.0  \n",
       "997   6.0  4.5  3.0  45.0  \n",
       "998   6.0  4.5  6.0  54.0  \n",
       "999   6.0  6.0  1.5  43.5  \n",
       "\n",
       "[7813 rows x 18 columns]"
      ]
     },
     "execution_count": 19,
     "metadata": {},
     "output_type": "execute_result"
    }
   ],
   "source": [
    "# Open df with FL characteristics (y)\n",
    "\n",
    "df = pd.read_csv(\"FL_augm_inter_w_smooth.csv\", index_col = 'idx').iloc[:,1:] #\"FL_augm_inter_w.csv\"\n",
    "df"
   ]
  },
  {
   "cell_type": "code",
   "execution_count": 20,
   "metadata": {},
   "outputs": [
    {
     "data": {
      "text/html": [
       "<div>\n",
       "<style scoped>\n",
       "    .dataframe tbody tr th:only-of-type {\n",
       "        vertical-align: middle;\n",
       "    }\n",
       "\n",
       "    .dataframe tbody tr th {\n",
       "        vertical-align: top;\n",
       "    }\n",
       "\n",
       "    .dataframe thead th {\n",
       "        text-align: right;\n",
       "    }\n",
       "</style>\n",
       "<table border=\"1\" class=\"dataframe\">\n",
       "  <thead>\n",
       "    <tr style=\"text-align: right;\">\n",
       "      <th></th>\n",
       "      <th>I</th>\n",
       "      <th>x</th>\n",
       "      <th>y</th>\n",
       "      <th>x_hw_mean</th>\n",
       "      <th>x_hw_res</th>\n",
       "      <th>y_hw_mean</th>\n",
       "      <th>y_hw_res</th>\n",
       "      <th>x_I_mean</th>\n",
       "      <th>x_I_res</th>\n",
       "      <th>y_I_mean</th>\n",
       "      <th>y_I_res</th>\n",
       "      <th>Cu</th>\n",
       "      <th>Ni</th>\n",
       "      <th>Pb</th>\n",
       "      <th>Al</th>\n",
       "      <th>Co</th>\n",
       "      <th>Cr</th>\n",
       "      <th>NO3</th>\n",
       "    </tr>\n",
       "    <tr>\n",
       "      <th>idx</th>\n",
       "      <th></th>\n",
       "      <th></th>\n",
       "      <th></th>\n",
       "      <th></th>\n",
       "      <th></th>\n",
       "      <th></th>\n",
       "      <th></th>\n",
       "      <th></th>\n",
       "      <th></th>\n",
       "      <th></th>\n",
       "      <th></th>\n",
       "      <th></th>\n",
       "      <th></th>\n",
       "      <th></th>\n",
       "      <th></th>\n",
       "      <th></th>\n",
       "      <th></th>\n",
       "      <th></th>\n",
       "    </tr>\n",
       "  </thead>\n",
       "  <tbody>\n",
       "    <tr>\n",
       "      <th>1</th>\n",
       "      <td>1.000000</td>\n",
       "      <td>1.000000</td>\n",
       "      <td>1.000000</td>\n",
       "      <td>1.000000</td>\n",
       "      <td>1.000000</td>\n",
       "      <td>1.000000</td>\n",
       "      <td>1.000000</td>\n",
       "      <td>1.000000</td>\n",
       "      <td>1.000000</td>\n",
       "      <td>1.000000</td>\n",
       "      <td>1.000000</td>\n",
       "      <td>0.0</td>\n",
       "      <td>0.0</td>\n",
       "      <td>0.0</td>\n",
       "      <td>0.0</td>\n",
       "      <td>0.0</td>\n",
       "      <td>0.0</td>\n",
       "      <td>0.0</td>\n",
       "    </tr>\n",
       "    <tr>\n",
       "      <th>10</th>\n",
       "      <td>0.184910</td>\n",
       "      <td>1.022727</td>\n",
       "      <td>1.000000</td>\n",
       "      <td>1.020491</td>\n",
       "      <td>1.153164</td>\n",
       "      <td>1.010591</td>\n",
       "      <td>1.004629</td>\n",
       "      <td>0.203487</td>\n",
       "      <td>0.164614</td>\n",
       "      <td>0.179409</td>\n",
       "      <td>-0.162526</td>\n",
       "      <td>0.0</td>\n",
       "      <td>0.0</td>\n",
       "      <td>0.0</td>\n",
       "      <td>0.0</td>\n",
       "      <td>4.5</td>\n",
       "      <td>4.5</td>\n",
       "      <td>22.5</td>\n",
       "    </tr>\n",
       "    <tr>\n",
       "      <th>100</th>\n",
       "      <td>0.161813</td>\n",
       "      <td>1.031818</td>\n",
       "      <td>1.014286</td>\n",
       "      <td>1.027981</td>\n",
       "      <td>1.173188</td>\n",
       "      <td>1.019486</td>\n",
       "      <td>0.983334</td>\n",
       "      <td>0.189060</td>\n",
       "      <td>0.138625</td>\n",
       "      <td>0.161174</td>\n",
       "      <td>-0.023649</td>\n",
       "      <td>0.0</td>\n",
       "      <td>0.0</td>\n",
       "      <td>1.5</td>\n",
       "      <td>3.0</td>\n",
       "      <td>6.0</td>\n",
       "      <td>4.5</td>\n",
       "      <td>37.5</td>\n",
       "    </tr>\n",
       "    <tr>\n",
       "      <th>1000</th>\n",
       "      <td>0.175360</td>\n",
       "      <td>1.034091</td>\n",
       "      <td>1.014286</td>\n",
       "      <td>1.032116</td>\n",
       "      <td>1.179995</td>\n",
       "      <td>1.019842</td>\n",
       "      <td>0.979868</td>\n",
       "      <td>0.200805</td>\n",
       "      <td>0.158390</td>\n",
       "      <td>0.170182</td>\n",
       "      <td>-0.056315</td>\n",
       "      <td>0.0</td>\n",
       "      <td>4.5</td>\n",
       "      <td>0.0</td>\n",
       "      <td>6.0</td>\n",
       "      <td>6.0</td>\n",
       "      <td>4.5</td>\n",
       "      <td>52.5</td>\n",
       "    </tr>\n",
       "    <tr>\n",
       "      <th>1001</th>\n",
       "      <td>0.577299</td>\n",
       "      <td>1.002273</td>\n",
       "      <td>1.000000</td>\n",
       "      <td>1.002893</td>\n",
       "      <td>1.017749</td>\n",
       "      <td>1.003500</td>\n",
       "      <td>0.987332</td>\n",
       "      <td>0.583146</td>\n",
       "      <td>0.589092</td>\n",
       "      <td>0.571156</td>\n",
       "      <td>0.259957</td>\n",
       "      <td>0.0</td>\n",
       "      <td>4.5</td>\n",
       "      <td>1.5</td>\n",
       "      <td>0.0</td>\n",
       "      <td>0.0</td>\n",
       "      <td>0.0</td>\n",
       "      <td>12.0</td>\n",
       "    </tr>\n",
       "    <tr>\n",
       "      <th>...</th>\n",
       "      <td>...</td>\n",
       "      <td>...</td>\n",
       "      <td>...</td>\n",
       "      <td>...</td>\n",
       "      <td>...</td>\n",
       "      <td>...</td>\n",
       "      <td>...</td>\n",
       "      <td>...</td>\n",
       "      <td>...</td>\n",
       "      <td>...</td>\n",
       "      <td>...</td>\n",
       "      <td>...</td>\n",
       "      <td>...</td>\n",
       "      <td>...</td>\n",
       "      <td>...</td>\n",
       "      <td>...</td>\n",
       "      <td>...</td>\n",
       "      <td>...</td>\n",
       "    </tr>\n",
       "    <tr>\n",
       "      <th>995</th>\n",
       "      <td>0.225176</td>\n",
       "      <td>1.036364</td>\n",
       "      <td>1.014286</td>\n",
       "      <td>1.032998</td>\n",
       "      <td>1.187675</td>\n",
       "      <td>1.019362</td>\n",
       "      <td>0.984064</td>\n",
       "      <td>0.259606</td>\n",
       "      <td>0.195718</td>\n",
       "      <td>0.218510</td>\n",
       "      <td>-0.035636</td>\n",
       "      <td>0.0</td>\n",
       "      <td>4.5</td>\n",
       "      <td>0.0</td>\n",
       "      <td>6.0</td>\n",
       "      <td>3.0</td>\n",
       "      <td>4.5</td>\n",
       "      <td>46.5</td>\n",
       "    </tr>\n",
       "    <tr>\n",
       "      <th>996</th>\n",
       "      <td>0.364825</td>\n",
       "      <td>1.036364</td>\n",
       "      <td>1.028571</td>\n",
       "      <td>1.036193</td>\n",
       "      <td>1.142246</td>\n",
       "      <td>1.031866</td>\n",
       "      <td>1.087431</td>\n",
       "      <td>0.414940</td>\n",
       "      <td>0.357757</td>\n",
       "      <td>0.390424</td>\n",
       "      <td>0.068551</td>\n",
       "      <td>0.0</td>\n",
       "      <td>4.5</td>\n",
       "      <td>0.0</td>\n",
       "      <td>6.0</td>\n",
       "      <td>4.5</td>\n",
       "      <td>0.0</td>\n",
       "      <td>36.0</td>\n",
       "    </tr>\n",
       "    <tr>\n",
       "      <th>997</th>\n",
       "      <td>0.234627</td>\n",
       "      <td>1.031818</td>\n",
       "      <td>1.014286</td>\n",
       "      <td>1.030359</td>\n",
       "      <td>1.189746</td>\n",
       "      <td>1.018701</td>\n",
       "      <td>0.996090</td>\n",
       "      <td>0.276679</td>\n",
       "      <td>0.222795</td>\n",
       "      <td>0.236602</td>\n",
       "      <td>-0.004728</td>\n",
       "      <td>0.0</td>\n",
       "      <td>4.5</td>\n",
       "      <td>0.0</td>\n",
       "      <td>6.0</td>\n",
       "      <td>4.5</td>\n",
       "      <td>3.0</td>\n",
       "      <td>45.0</td>\n",
       "    </tr>\n",
       "    <tr>\n",
       "      <th>998</th>\n",
       "      <td>0.181161</td>\n",
       "      <td>1.040909</td>\n",
       "      <td>1.014286</td>\n",
       "      <td>1.035431</td>\n",
       "      <td>1.195412</td>\n",
       "      <td>1.019605</td>\n",
       "      <td>0.983741</td>\n",
       "      <td>0.208768</td>\n",
       "      <td>0.138664</td>\n",
       "      <td>0.174736</td>\n",
       "      <td>-0.047695</td>\n",
       "      <td>0.0</td>\n",
       "      <td>4.5</td>\n",
       "      <td>0.0</td>\n",
       "      <td>6.0</td>\n",
       "      <td>4.5</td>\n",
       "      <td>6.0</td>\n",
       "      <td>54.0</td>\n",
       "    </tr>\n",
       "    <tr>\n",
       "      <th>999</th>\n",
       "      <td>0.257065</td>\n",
       "      <td>1.029545</td>\n",
       "      <td>1.014286</td>\n",
       "      <td>1.027512</td>\n",
       "      <td>1.145698</td>\n",
       "      <td>1.021937</td>\n",
       "      <td>1.002037</td>\n",
       "      <td>0.283347</td>\n",
       "      <td>0.232801</td>\n",
       "      <td>0.250108</td>\n",
       "      <td>-0.134081</td>\n",
       "      <td>0.0</td>\n",
       "      <td>4.5</td>\n",
       "      <td>0.0</td>\n",
       "      <td>6.0</td>\n",
       "      <td>6.0</td>\n",
       "      <td>1.5</td>\n",
       "      <td>43.5</td>\n",
       "    </tr>\n",
       "  </tbody>\n",
       "</table>\n",
       "<p>7813 rows × 18 columns</p>\n",
       "</div>"
      ],
      "text/plain": [
       "             I         x         y  x_hw_mean  x_hw_res  y_hw_mean  y_hw_res  \\\n",
       "idx                                                                            \n",
       "1     1.000000  1.000000  1.000000   1.000000  1.000000   1.000000  1.000000   \n",
       "10    0.184910  1.022727  1.000000   1.020491  1.153164   1.010591  1.004629   \n",
       "100   0.161813  1.031818  1.014286   1.027981  1.173188   1.019486  0.983334   \n",
       "1000  0.175360  1.034091  1.014286   1.032116  1.179995   1.019842  0.979868   \n",
       "1001  0.577299  1.002273  1.000000   1.002893  1.017749   1.003500  0.987332   \n",
       "...        ...       ...       ...        ...       ...        ...       ...   \n",
       "995   0.225176  1.036364  1.014286   1.032998  1.187675   1.019362  0.984064   \n",
       "996   0.364825  1.036364  1.028571   1.036193  1.142246   1.031866  1.087431   \n",
       "997   0.234627  1.031818  1.014286   1.030359  1.189746   1.018701  0.996090   \n",
       "998   0.181161  1.040909  1.014286   1.035431  1.195412   1.019605  0.983741   \n",
       "999   0.257065  1.029545  1.014286   1.027512  1.145698   1.021937  1.002037   \n",
       "\n",
       "      x_I_mean   x_I_res  y_I_mean   y_I_res   Cu   Ni   Pb   Al   Co   Cr  \\\n",
       "idx                                                                          \n",
       "1     1.000000  1.000000  1.000000  1.000000  0.0  0.0  0.0  0.0  0.0  0.0   \n",
       "10    0.203487  0.164614  0.179409 -0.162526  0.0  0.0  0.0  0.0  4.5  4.5   \n",
       "100   0.189060  0.138625  0.161174 -0.023649  0.0  0.0  1.5  3.0  6.0  4.5   \n",
       "1000  0.200805  0.158390  0.170182 -0.056315  0.0  4.5  0.0  6.0  6.0  4.5   \n",
       "1001  0.583146  0.589092  0.571156  0.259957  0.0  4.5  1.5  0.0  0.0  0.0   \n",
       "...        ...       ...       ...       ...  ...  ...  ...  ...  ...  ...   \n",
       "995   0.259606  0.195718  0.218510 -0.035636  0.0  4.5  0.0  6.0  3.0  4.5   \n",
       "996   0.414940  0.357757  0.390424  0.068551  0.0  4.5  0.0  6.0  4.5  0.0   \n",
       "997   0.276679  0.222795  0.236602 -0.004728  0.0  4.5  0.0  6.0  4.5  3.0   \n",
       "998   0.208768  0.138664  0.174736 -0.047695  0.0  4.5  0.0  6.0  4.5  6.0   \n",
       "999   0.283347  0.232801  0.250108 -0.134081  0.0  4.5  0.0  6.0  6.0  1.5   \n",
       "\n",
       "       NO3  \n",
       "idx         \n",
       "1      0.0  \n",
       "10    22.5  \n",
       "100   37.5  \n",
       "1000  52.5  \n",
       "1001  12.0  \n",
       "...    ...  \n",
       "995   46.5  \n",
       "996   36.0  \n",
       "997   45.0  \n",
       "998   54.0  \n",
       "999   43.5  \n",
       "\n",
       "[7813 rows x 18 columns]"
      ]
     },
     "execution_count": 20,
     "metadata": {},
     "output_type": "execute_result"
    }
   ],
   "source": [
    "idx_norm = 1\n",
    "\n",
    "df_norm = pd.DataFrame()\n",
    "\n",
    "df_norm['I'] = df['I'] / df['I'].loc[idx_norm]\n",
    "df_norm['x'] = df['x'] / df['x'].loc[idx_norm]\n",
    "df_norm['y'] = df['y'] / df['y'].loc[idx_norm]\n",
    "\n",
    "df_norm['x_hw_mean'] = (df['right_bound'] + df['left_bound']) / (df['right_bound'].loc[idx_norm] + df['left_bound'].loc[idx_norm])\n",
    "df_norm['x_hw_res'] = (df['right_bound'] - df['left_bound']) / (df['right_bound'].loc[idx_norm] - df['left_bound'].loc[idx_norm])\n",
    "df_norm['y_hw_mean'] = (df['up_bound'] + df['down_bound']) / (df['up_bound'].loc[idx_norm] + df['down_bound'].loc[idx_norm])\n",
    "df_norm['y_hw_res'] = (df['up_bound'] - df['down_bound']) / (df['up_bound'].loc[idx_norm] - df['down_bound'].loc[idx_norm])\n",
    "\n",
    "df_norm['x_I_mean'] = (df['I_x_right'] + df['I_x_left']) / (df['I_x_right'].loc[idx_norm] + df['I_x_left'].loc[idx_norm])\n",
    "df_norm['x_I_res'] = (df['I_x_right'] - df['I_x_left']) / (df['I_x_right'].loc[idx_norm] - df['I_x_left'].loc[idx_norm])\n",
    "df_norm['y_I_mean'] = (df['I_y_up'] + df['I_y_down']) / (df['I_y_up'].loc[idx_norm] + df['I_y_down'].loc[idx_norm])\n",
    "df_norm['y_I_res'] = (df['I_y_up'] - df['I_y_down']) / (df['I_y_up'].loc[idx_norm] - df['I_y_down'].loc[idx_norm])\n",
    "\n",
    "df_norm['Cu'] = df['Cu']\n",
    "df_norm['Ni'] = df['Ni']\n",
    "df_norm['Pb'] = df['Pb']\n",
    "df_norm['Al'] = df['Al']\n",
    "df_norm['Co'] = df['Co']\n",
    "df_norm['Cr'] = df['Cr']\n",
    "df_norm['NO3'] = df['NO3']\n",
    "\n",
    "df_norm"
   ]
  },
  {
   "cell_type": "markdown",
   "metadata": {},
   "source": [
    "# Building models"
   ]
  },
  {
   "cell_type": "code",
   "execution_count": 21,
   "metadata": {},
   "outputs": [],
   "source": [
    "from sklearn.model_selection import train_test_split\n",
    "from sklearn.preprocessing import MinMaxScaler\n",
    "from sklearn.neural_network import MLPRegressor\n",
    "\n",
    "from sklearn.metrics import mean_squared_error as mse\n",
    "from sklearn.metrics import mean_absolute_error as mae\n",
    "from sklearn.metrics import r2_score as r2_score\n",
    "\n",
    "\n",
    "def rmse(y_true, y_pred, kwargs={}):\n",
    "    return (mse(y_true, y_pred, **kwargs))**0.5\n",
    "\n",
    "def scatter_prediction(model, \n",
    "                       x, \n",
    "                       y_true, \n",
    "                       title = \"\"):\n",
    "    \"\"\"Evaluates MSE and R^2 of model. \n",
    "    Draws scatter plot of (y_true, y_predicted).\n",
    "    Returns  (mse, r2)\n",
    "    \"\"\"\n",
    "    y_pred = model.predict(x)\n",
    "    model_rmse = rmse(y_true, y_pred)\n",
    "    model_mae = mae(y_true, y_pred)\n",
    "    model_r2 = r2_score(y_true, y_pred)\n",
    "    \n",
    "    fig, ax = plt.subplots(figsize=(5,5))\n",
    "    plt.plot(y_true, y_pred, 'o', markersize=2, alpha = 0.2) \n",
    "    plt.plot([min(y_true), max(y_true)], [min(y_true), max(y_true)], markersize=2, alpha = 0.5, color='r') \n",
    "    ax.set_title(f\"RMSE={round(model_rmse, 5)} | MAE={round(model_mae, 5)} | R2={round(model_r2, 5)} | {title}\")\n",
    "    ax.set_xlabel(\"y_true\")\n",
    "    ax.set_ylabel(\"y_pred\")\n",
    "    plt.show()\n",
    "    \n",
    "    return model_rmse, model_mae, model_r2"
   ]
  },
  {
   "cell_type": "code",
   "execution_count": 22,
   "metadata": {},
   "outputs": [
    {
     "data": {
      "text/plain": [
       "(7813, 11)"
      ]
     },
     "execution_count": 22,
     "metadata": {},
     "output_type": "execute_result"
    }
   ],
   "source": [
    "l_PR_ION = ['Cu', 'Ni', 'Pb', 'Al', 'Co', 'Cr', 'NO3']\n",
    "\n",
    "x = df_norm.drop(l_PR_ION, axis=1).to_numpy()\n",
    "#y = df_norm[l_PR_ION[0]].to_numpy()\n",
    "\n",
    "x.shape #, y.shape"
   ]
  },
  {
   "cell_type": "markdown",
   "metadata": {},
   "source": [
    "## 5. Scaling y-data\n",
    "Train / Validation / Test = 0.7 / 0.2 / 0.1\n",
    "\n",
    "TRAIN_TEST_RATIO = (Test) / (Train+Validation+Test)\n",
    "\n",
    "VALIDATION_TRAIN_RATIO = Validation / (Train+Validation)"
   ]
  },
  {
   "cell_type": "code",
   "execution_count": 23,
   "metadata": {},
   "outputs": [],
   "source": [
    "TEST_TRAIN_RATIO = 0.1\n",
    "n_splits = 10\n",
    "VALIDATION_TRAIN_RATIO = 2 / 9 #7 / 9\n",
    "RS = None\n",
    "\n",
    "N_ITER_NO_CHANGE = 20"
   ]
  },
  {
   "cell_type": "markdown",
   "metadata": {},
   "source": [
    "## 6. Model - MLP\n",
    "MLP with varied architecture.\n",
    "We use MLPRegressor from scikit-learn library."
   ]
  },
  {
   "cell_type": "code",
   "execution_count": 24,
   "metadata": {},
   "outputs": [],
   "source": [
    "mlp_HIDDEN_LAYER_SIZES = [64]\n",
    "mlp_ACTIVATION = 'relu'\n",
    "mlp_SOLVER = 'adam'\n",
    "mlp_MAX_ITER = 10000\n",
    "TOL = 1e-3"
   ]
  },
  {
   "cell_type": "code",
   "execution_count": 25,
   "metadata": {},
   "outputs": [
    {
     "name": "stderr",
     "output_type": "stream",
     "text": [
      "100%|██████████| 15/15 [13:37<00:00, 54.50s/it]\n"
     ]
    }
   ],
   "source": [
    "from sklearn.neural_network import MLPRegressor\n",
    "from sklearn.model_selection import train_test_split, KFold, cross_validate\n",
    "from sklearn.metrics import root_mean_squared_error, mean_absolute_error, r2_score, make_scorer\n",
    "\n",
    "from tqdm import tqdm\n",
    "\n",
    "n_splits = 10\n",
    "scoring = {'rmse': make_scorer(root_mean_squared_error), \n",
    "           'mae': make_scorer(mean_absolute_error),\n",
    "           'r2': make_scorer(r2_score)}\n",
    "\n",
    "PR_ION = 'Cu' #['Cu', 'Ni', 'Pb', 'Al', 'Co', 'Cr', 'NO3']\n",
    "l_mlp_HIDDEN_LAYER_SIZES = [[64], \n",
    "                            [16, 8],\n",
    "                            [32, 8],\n",
    "                            [64, 8],\n",
    "                            [32, 16, 4],\n",
    "                            [32, 32, 4],\n",
    "                            [64, 32, 4],\n",
    "                            [32, 16, 8, 4],\n",
    "                            [32, 32, 16, 4],\n",
    "                            [64, 32, 16, 4],\n",
    "                            [64, 64, 32, 16],\n",
    "                            [32, 8, 8, 8, 2],\n",
    "                            [32, 16, 16, 16, 4],\n",
    "                            [64, 32, 32, 32, 8],\n",
    "                            [64, 64, 32, 32, 8]]\n",
    "\n",
    "mlp_mean_rmse, mlp_std_rmse = [], []\n",
    "mlp_mean_mae, mlp_std_mae = [], []\n",
    "mlp_mean_r2, mlp_std_r2 = [], []\n",
    "l_y_scaler_multiplier = []\n",
    "\n",
    "\n",
    "for mlp_HIDDEN_LAYER_SIZES in tqdm(l_mlp_HIDDEN_LAYER_SIZES):\n",
    "    model = MLPRegressor(hidden_layer_sizes=mlp_HIDDEN_LAYER_SIZES,\n",
    "                         activation=mlp_ACTIVATION,\n",
    "                         solver=mlp_SOLVER,\n",
    "                         early_stopping=True,\n",
    "                         validation_fraction=VALIDATION_TRAIN_RATIO,\n",
    "                         n_iter_no_change=N_ITER_NO_CHANGE,\n",
    "                         learning_rate_init = 0.001,\n",
    "                         learning_rate='constant',\n",
    "                         max_iter=mlp_MAX_ITER,\n",
    "                         random_state=RS,\n",
    "                         tol=TOL)\n",
    "    \n",
    "    # Choosing certain ion \n",
    "    y = df_norm[[PR_ION]].to_numpy()\n",
    "    # Scaling y before train_test split in cv only because we aprior know the distribution of ions.\n",
    "    scaler_y = MinMaxScaler()\n",
    "    y_all_scaled = scaler_y.fit_transform(y)\n",
    "    y_scaler_multiplier = scaler_y.data_max_[0] - scaler_y.data_min_[0]\n",
    "    l_y_scaler_multiplier.append(y_scaler_multiplier)\n",
    "    \n",
    "    cv_rf_kf = cross_validate(model, x, y_all_scaled.ravel(), cv=KFold(shuffle=True, n_splits=n_splits), scoring=scoring)\n",
    "    \n",
    "    mlp_mean_mae.append(np.mean(cv_rf_kf['test_mae']))\n",
    "    mlp_std_mae.append(np.std(cv_rf_kf['test_mae']))\n",
    "    \n",
    "    mlp_mean_rmse.append(np.mean(cv_rf_kf['test_rmse']))\n",
    "    mlp_std_rmse.append(np.std(cv_rf_kf['test_rmse']))\n",
    "    \n",
    "    mlp_mean_r2.append(np.mean(cv_rf_kf['test_r2']))\n",
    "    mlp_std_r2.append(np.std(cv_rf_kf['test_r2']))"
   ]
  },
  {
   "cell_type": "code",
   "execution_count": 26,
   "metadata": {},
   "outputs": [
    {
     "data": {
      "text/plain": [
       "Text(0.5, 1.0, 'CV sklMLP | Cu')"
      ]
     },
     "execution_count": 26,
     "metadata": {},
     "output_type": "execute_result"
    },
    {
     "data": {
      "image/png": "[encoded data removed]",
      "text/plain": [
       "<Figure size 640x480 with 1 Axes>"
      ]
     },
     "metadata": {},
     "output_type": "display_data"
    }
   ],
   "source": [
    "l_x_labels = [str(arch) for arch in l_mlp_HIDDEN_LAYER_SIZES]\n",
    "\n",
    "plt.errorbar(l_x_labels, np.array(mlp_mean_rmse) * np.array(l_y_scaler_multiplier), \n",
    "             yerr=np.array(mlp_std_rmse) * np.array(l_y_scaler_multiplier), fmt='o') # n_param_bf\n",
    "plt.errorbar(l_x_labels, np.array(mlp_mean_mae) * np.array(l_y_scaler_multiplier), \n",
    "             yerr=np.array(mlp_std_mae) * np.array(l_y_scaler_multiplier), fmt='o') # n_param_bf\n",
    "\n",
    "#plt.xscale('log')\n",
    "#plt.yscale('log')\n",
    "plt.xticks(rotation=90)\n",
    "plt.xlabel('Ion type') #'number of params'\n",
    "plt.ylabel('Metric, mM')\n",
    "plt.legend(['RMSE', 'MAE'])\n",
    "plt.title(f'CV sklMLP | {PR_ION}')"
   ]
  },
  {
   "cell_type": "code",
   "execution_count": 16,
   "metadata": {},
   "outputs": [
    {
     "data": {
      "text/plain": [
       "Text(0.5, 1.0, 'CV sklMLP | Cu')"
      ]
     },
     "execution_count": 16,
     "metadata": {},
     "output_type": "execute_result"
    },
    {
     "data": {
      "image/png": "[encoded data removed]",
      "text/plain": [
       "<Figure size 640x480 with 1 Axes>"
      ]
     },
     "metadata": {},
     "output_type": "display_data"
    }
   ],
   "source": [
    "l_x_labels = [str(arch) for arch in l_mlp_HIDDEN_LAYER_SIZES]\n",
    "\n",
    "plt.errorbar(l_x_labels, np.array(mlp_mean_rmse) * np.array(l_y_scaler_multiplier), \n",
    "             yerr=np.array(mlp_std_rmse) * np.array(l_y_scaler_multiplier), fmt='o') # n_param_bf\n",
    "plt.errorbar(l_x_labels, np.array(mlp_mean_mae) * np.array(l_y_scaler_multiplier), \n",
    "             yerr=np.array(mlp_std_mae) * np.array(l_y_scaler_multiplier), fmt='o') # n_param_bf\n",
    "\n",
    "#plt.xscale('log')\n",
    "#plt.yscale('log')\n",
    "plt.xticks(rotation=90)\n",
    "plt.xlabel('Ion type') #'number of params'\n",
    "plt.ylabel('Metric, mM')\n",
    "plt.legend(['RMSE', 'MAE'])\n",
    "plt.title(f'CV sklMLP | {PR_ION}')"
   ]
  },
  {
   "cell_type": "code",
   "execution_count": 17,
   "metadata": {},
   "outputs": [
    {
     "data": {
      "text/plain": [
       "[0.27534992252940854,\n",
       " 0.27829374643165805,\n",
       " 0.2963520357349782,\n",
       " 0.29524180861937205,\n",
       " 0.33006293790772523,\n",
       " 0.3419305496881877,\n",
       " 0.35264671244943835,\n",
       " 0.34396764467143254,\n",
       " 0.36264595506975456,\n",
       " 0.36252344039044465,\n",
       " 0.369590431905917,\n",
       " 0.24368721740995278,\n",
       " 0.34539118051430073,\n",
       " 0.3706803224226038,\n",
       " 0.3763745417250765]"
      ]
     },
     "execution_count": 17,
     "metadata": {},
     "output_type": "execute_result"
    }
   ],
   "source": [
    "mlp_mean_r2"
   ]
  },
  {
   "cell_type": "markdown",
   "metadata": {},
   "source": [
    "--------------------"
   ]
  },
  {
   "cell_type": "markdown",
   "metadata": {},
   "source": [
    "# 7. Catboost"
   ]
  },
  {
   "cell_type": "code",
   "execution_count": 18,
   "metadata": {},
   "outputs": [],
   "source": [
    "import catboost"
   ]
  },
  {
   "cell_type": "code",
   "execution_count": 19,
   "metadata": {},
   "outputs": [
    {
     "name": "stderr",
     "output_type": "stream",
     "text": [
      "100%|██████████| 7/7 [05:56<00:00, 50.89s/it]\n"
     ]
    }
   ],
   "source": [
    "from sklearn.model_selection import train_test_split, KFold, cross_validate\n",
    "from sklearn.metrics import root_mean_squared_error, mean_absolute_error, r2_score, make_scorer\n",
    "\n",
    "from tqdm import tqdm\n",
    "\n",
    "n_splits = 10\n",
    "scoring = {'rmse': make_scorer(root_mean_squared_error), \n",
    "           'mae': make_scorer(mean_absolute_error),\n",
    "           'r2': make_scorer(r2_score)}\n",
    "\n",
    "l_PR_ION = ['Cu', 'Ni', 'Pb', 'Al', 'Co', 'Cr', 'NO3']\n",
    "\n",
    "cb_mean_rmse, cb_std_rmse = [], []\n",
    "cb_mean_mae, cb_std_mae = [], []\n",
    "cb_mean_r2, cb_std_r2 = [], []\n",
    "l_y_scaler_multiplier = []\n",
    "\n",
    "for PR_ION in tqdm(l_PR_ION):\n",
    "    model = catboost.CatBoostRegressor(verbose=0, random_seed=RS)\n",
    "    \n",
    "    # Choosing certain ion \n",
    "    y = df_norm[[PR_ION]].to_numpy()\n",
    "    # Scaling y before train_test split in cv only because we aprior know the distribution of ions.\n",
    "    scaler_y = MinMaxScaler()\n",
    "    y_all_scaled = scaler_y.fit_transform(y)\n",
    "    y_scaler_multiplier = scaler_y.data_max_[0] - scaler_y.data_min_[0]\n",
    "    l_y_scaler_multiplier.append(y_scaler_multiplier)\n",
    "    \n",
    "    cv_rf_kf = cross_validate(model, x, y_all_scaled.ravel(), cv=KFold(shuffle=True, n_splits=n_splits), scoring=scoring)\n",
    "    \n",
    "    cb_mean_mae.append(np.mean(cv_rf_kf['test_mae']))\n",
    "    cb_std_mae.append(np.std(cv_rf_kf['test_mae']))\n",
    "    \n",
    "    cb_mean_rmse.append(np.mean(cv_rf_kf['test_rmse']))\n",
    "    cb_std_rmse.append(np.std(cv_rf_kf['test_rmse']))\n",
    "    \n",
    "    cb_mean_r2.append(np.mean(cv_rf_kf['test_r2']))\n",
    "    cb_std_r2.append(np.std(cv_rf_kf['test_r2']))"
   ]
  },
  {
   "cell_type": "code",
   "execution_count": 20,
   "metadata": {},
   "outputs": [
    {
     "data": {
      "text/plain": [
       "Text(0.5, 1.0, 'CV CatBoost | NO3')"
      ]
     },
     "execution_count": 20,
     "metadata": {},
     "output_type": "execute_result"
    },
    {
     "data": {
      "image/png": "[encoded data removed]",
      "text/plain": [
       "<Figure size 640x480 with 1 Axes>"
      ]
     },
     "metadata": {},
     "output_type": "display_data"
    }
   ],
   "source": [
    "plt.errorbar(l_PR_ION, np.array(cb_mean_rmse) * np.array(l_y_scaler_multiplier), \n",
    "             yerr=np.array(cb_std_rmse) * np.array(l_y_scaler_multiplier), fmt='o-') # n_param_bf\n",
    "plt.errorbar(l_PR_ION, np.array(cb_mean_mae) * np.array(l_y_scaler_multiplier), \n",
    "             yerr=np.array(cb_std_mae) * np.array(l_y_scaler_multiplier), fmt='o-') # n_param_bf\n",
    "\n",
    "#plt.xscale('log')\n",
    "#plt.yscale('log')\n",
    "plt.xticks(rotation=90)\n",
    "plt.xlabel('Ion type') #'number of params'\n",
    "plt.ylabel('Metric, mM')\n",
    "plt.legend(['RMSE', 'MAE'])\n",
    "plt.title(f'CV CatBoost | {PR_ION}')"
   ]
  },
  {
   "cell_type": "markdown",
   "metadata": {},
   "source": [
    "## 8. Model - KAN\n"
   ]
  },
  {
   "cell_type": "code",
   "execution_count": 7,
   "metadata": {},
   "outputs": [
    {
     "name": "stdout",
     "output_type": "stream",
     "text": [
      "cpu\n"
     ]
    }
   ],
   "source": [
    "import torch\n",
    "from kan import KAN\n",
    "\n",
    "from tools import kfold_experiment_es\n",
    "\n",
    "device = torch.device('cuda' if torch.cuda.is_available() else 'cpu')\n",
    "print(device)"
   ]
  },
  {
   "cell_type": "code",
   "execution_count": null,
   "metadata": {},
   "outputs": [
    {
     "name": "stdout",
     "output_type": "stream",
     "text": [
      "checkpoint directory created: ./model\n",
      "saving model version 0.0\n",
      "kfold: 0\n"
     ]
    },
    {
     "name": "stderr",
     "output_type": "stream",
     "text": [
      "trn_ls: 1.50e+00 | vl_ls: 1.54e+00 | e_stop: 20/20 | tst_ls: 2.31e+00 | reg: 4.78e+01 :  14%|▌   | 27/200 [01:51<11:55,  4.13s/it]\n"
     ]
    },
    {
     "name": "stdout",
     "output_type": "stream",
     "text": [
      "Early stopping criteria raised\n",
      "checkpoint directory created: ./model\n",
      "saving model version 0.0\n",
      "kfold: 1\n"
     ]
    },
    {
     "name": "stderr",
     "output_type": "stream",
     "text": [
      "trn_ls: 1.54e+00 | vl_ls: 1.61e+00 | e_stop: 20/20 | tst_ls: 1.23e+00 | reg: 6.61e+01 :  41%|█▋  | 82/200 [05:01<07:14,  3.68s/it]\n"
     ]
    },
    {
     "name": "stdout",
     "output_type": "stream",
     "text": [
      "Early stopping criteria raised\n",
      "checkpoint directory created: ./model\n",
      "saving model version 0.0\n",
      "kfold: 2\n"
     ]
    },
    {
     "name": "stderr",
     "output_type": "stream",
     "text": [
      "trn_ls: 1.51e+00 | vl_ls: 1.59e+00 | e_stop: 20/20 | tst_ls: 2.19e+00 | reg: 5.98e+01 :  19%|▊   | 38/200 [02:18<09:50,  3.64s/it]\n"
     ]
    },
    {
     "name": "stdout",
     "output_type": "stream",
     "text": [
      "Early stopping criteria raised\n",
      "checkpoint directory created: ./model\n",
      "saving model version 0.0\n",
      "kfold: 3\n"
     ]
    },
    {
     "name": "stderr",
     "output_type": "stream",
     "text": [
      "trn_ls: 1.59e+00 | vl_ls: 1.67e+00 | e_stop: 20/20 | tst_ls: 1.33e+00 | reg: 5.83e+01 :  36%|█▍  | 73/200 [04:54<08:31,  4.03s/it]\n"
     ]
    },
    {
     "name": "stdout",
     "output_type": "stream",
     "text": [
      "Early stopping criteria raised\n",
      "checkpoint directory created: ./model\n",
      "saving model version 0.0\n",
      "kfold: 4\n"
     ]
    },
    {
     "name": "stderr",
     "output_type": "stream",
     "text": [
      "trn_ls: 1.54e+00 | vl_ls: 1.62e+00 | e_stop: 20/20 | tst_ls: 1.34e+00 | reg: 6.62e+01 :  38%|█▌  | 75/200 [05:29<09:09,  4.39s/it]\n"
     ]
    },
    {
     "name": "stdout",
     "output_type": "stream",
     "text": [
      "Early stopping criteria raised\n",
      "checkpoint directory created: ./model\n",
      "saving model version 0.0\n",
      "kfold: 5\n"
     ]
    },
    {
     "name": "stderr",
     "output_type": "stream",
     "text": [
      "trn_ls: 1.54e+00 | vl_ls: 1.67e+00 | e_stop: 20/20 | tst_ls: 1.43e+00 | reg: 6.47e+01 :  42%|█▋  | 84/200 [06:51<09:28,  4.90s/it]\n"
     ]
    },
    {
     "name": "stdout",
     "output_type": "stream",
     "text": [
      "Early stopping criteria raised\n",
      "checkpoint directory created: ./model\n",
      "saving model version 0.0\n",
      "kfold: 6\n"
     ]
    },
    {
     "name": "stderr",
     "output_type": "stream",
     "text": [
      "trn_ls: 1.62e+00 | vl_ls: 1.62e+00 | e_stop: 20/20 | tst_ls: 1.21e+00 | reg: 5.78e+01 :  18%|▋   | 37/200 [03:01<13:20,  4.91s/it]\n"
     ]
    },
    {
     "name": "stdout",
     "output_type": "stream",
     "text": [
      "Early stopping criteria raised\n",
      "checkpoint directory created: ./model\n",
      "saving model version 0.0\n",
      "kfold: 7\n"
     ]
    },
    {
     "name": "stderr",
     "output_type": "stream",
     "text": [
      "trn_ls: 1.50e+00 | vl_ls: 1.58e+00 | e_stop: 20/20 | tst_ls: 2.06e+00 | reg: 5.23e+01 :  18%|▋   | 36/200 [02:42<12:18,  4.50s/it]\n"
     ]
    },
    {
     "name": "stdout",
     "output_type": "stream",
     "text": [
      "Early stopping criteria raised\n",
      "checkpoint directory created: ./model\n",
      "saving model version 0.0\n",
      "kfold: 8\n"
     ]
    },
    {
     "name": "stderr",
     "output_type": "stream",
     "text": [
      "trn_ls: 1.45e+00 | vl_ls: 1.57e+00 | e_stop: 20/20 | tst_ls: 2.27e+00 | reg: 7.43e+01 :  25%|█   | 50/200 [03:48<11:25,  4.57s/it]\n"
     ]
    },
    {
     "name": "stdout",
     "output_type": "stream",
     "text": [
      "Early stopping criteria raised\n",
      "checkpoint directory created: ./model\n",
      "saving model version 0.0\n",
      "kfold: 9\n"
     ]
    },
    {
     "name": "stderr",
     "output_type": "stream",
     "text": [
      "trn_ls: 1.50e+00 | vl_ls: 1.61e+00 | e_stop: 20/20 | tst_ls: 1.98e+00 | reg: 5.75e+01 :  13%|▌   | 26/200 [01:55<12:51,  4.43s/it]\n"
     ]
    },
    {
     "name": "stdout",
     "output_type": "stream",
     "text": [
      "Early stopping criteria raised\n",
      "checkpoint directory created: ./model\n",
      "saving model version 0.0\n",
      "kfold: 0\n"
     ]
    },
    {
     "name": "stderr",
     "output_type": "stream",
     "text": [
      "trn_ls: 1.81e+00 | vl_ls: 1.96e+00 | e_stop: 20/20 | tst_ls: 2.77e+00 | reg: 6.24e+01 :  25%|█   | 50/200 [03:35<10:47,  4.32s/it]\n"
     ]
    },
    {
     "name": "stdout",
     "output_type": "stream",
     "text": [
      "Early stopping criteria raised\n",
      "checkpoint directory created: ./model\n",
      "saving model version 0.0\n",
      "kfold: 1\n"
     ]
    },
    {
     "name": "stderr",
     "output_type": "stream",
     "text": [
      "trn_ls: 1.90e+00 | vl_ls: 1.97e+00 | e_stop: 20/20 | tst_ls: 1.97e+00 | reg: 7.90e+01 :  34%|█▎  | 67/200 [04:45<09:26,  4.26s/it]\n"
     ]
    },
    {
     "name": "stdout",
     "output_type": "stream",
     "text": [
      "Early stopping criteria raised\n",
      "checkpoint directory created: ./model\n",
      "saving model version 0.0\n",
      "kfold: 2\n"
     ]
    },
    {
     "name": "stderr",
     "output_type": "stream",
     "text": [
      "trn_ls: 1.89e+00 | vl_ls: 1.97e+00 | e_stop: 20/20 | tst_ls: 2.22e+00 | reg: 6.81e+01 :  20%|▊   | 41/200 [03:12<12:26,  4.70s/it]\n"
     ]
    },
    {
     "name": "stdout",
     "output_type": "stream",
     "text": [
      "Early stopping criteria raised\n",
      "checkpoint directory created: ./model\n",
      "saving model version 0.0\n",
      "kfold: 3\n"
     ]
    },
    {
     "name": "stderr",
     "output_type": "stream",
     "text": [
      "trn_ls: 1.88e+00 | vl_ls: 1.98e+00 | e_stop: 20/20 | tst_ls: 2.30e+00 | reg: 7.97e+01 :  20%|▊   | 41/200 [03:03<11:52,  4.48s/it]\n"
     ]
    },
    {
     "name": "stdout",
     "output_type": "stream",
     "text": [
      "Early stopping criteria raised\n",
      "checkpoint directory created: ./model\n",
      "saving model version 0.0\n",
      "kfold: 4\n"
     ]
    },
    {
     "name": "stderr",
     "output_type": "stream",
     "text": [
      "trn_ls: 1.92e+00 | vl_ls: 2.00e+00 | e_stop: 20/20 | tst_ls: 1.84e+00 | reg: 7.67e+01 :  34%|█▎  | 67/200 [04:46<09:27,  4.27s/it]\n"
     ]
    },
    {
     "name": "stdout",
     "output_type": "stream",
     "text": [
      "Early stopping criteria raised\n",
      "checkpoint directory created: ./model\n",
      "saving model version 0.0\n",
      "kfold: 5\n"
     ]
    },
    {
     "name": "stderr",
     "output_type": "stream",
     "text": [
      "trn_ls: 1.86e+00 | vl_ls: 2.06e+00 | e_stop: 20/20 | tst_ls: 2.56e+00 | reg: 6.13e+01 :  16%|▌   | 31/200 [02:18<12:34,  4.47s/it]\n"
     ]
    },
    {
     "name": "stdout",
     "output_type": "stream",
     "text": [
      "Early stopping criteria raised\n",
      "checkpoint directory created: ./model\n",
      "saving model version 0.0\n",
      "kfold: 6\n"
     ]
    },
    {
     "name": "stderr",
     "output_type": "stream",
     "text": [
      "trn_ls: 1.95e+00 | vl_ls: 2.09e+00 | e_stop: 20/20 | tst_ls: 1.27e+00 | reg: 8.19e+01 :  30%|█▏  | 61/200 [04:26<10:08,  4.37s/it]\n"
     ]
    },
    {
     "name": "stdout",
     "output_type": "stream",
     "text": [
      "Early stopping criteria raised\n",
      "checkpoint directory created: ./model\n",
      "saving model version 0.0\n",
      "kfold: 7\n"
     ]
    },
    {
     "name": "stderr",
     "output_type": "stream",
     "text": [
      "trn_ls: 1.85e+00 | vl_ls: 2.77e+00 | e_stop: 20/20 | tst_ls: 2.68e+00 | reg: 5.67e+01 :  14%|▌   | 29/200 [02:06<12:26,  4.37s/it]\n"
     ]
    },
    {
     "name": "stdout",
     "output_type": "stream",
     "text": [
      "Early stopping criteria raised\n",
      "checkpoint directory created: ./model\n",
      "saving model version 0.0\n",
      "kfold: 8\n"
     ]
    },
    {
     "name": "stderr",
     "output_type": "stream",
     "text": [
      "trn_ls: 1.95e+00 | vl_ls: 2.02e+00 | e_stop: 20/20 | tst_ls: 1.57e+00 | reg: 7.30e+01 :  26%|█   | 53/200 [03:11<08:50,  3.61s/it]\n"
     ]
    },
    {
     "name": "stdout",
     "output_type": "stream",
     "text": [
      "Early stopping criteria raised\n",
      "checkpoint directory created: ./model\n",
      "saving model version 0.0\n",
      "kfold: 9\n"
     ]
    },
    {
     "name": "stderr",
     "output_type": "stream",
     "text": [
      "trn_ls: 1.93e+00 | vl_ls: 2.03e+00 | e_stop: 20/20 | tst_ls: 2.70e+00 | reg: 6.98e+01 :  16%|▌   | 31/200 [01:51<10:09,  3.61s/it]\n"
     ]
    },
    {
     "name": "stdout",
     "output_type": "stream",
     "text": [
      "Early stopping criteria raised\n",
      "checkpoint directory created: ./model\n",
      "saving model version 0.0\n",
      "kfold: 0\n"
     ]
    },
    {
     "name": "stderr",
     "output_type": "stream",
     "text": [
      "trn_ls: 1.83e+00 | vl_ls: 1.93e+00 | e_stop: 20/20 | tst_ls: 1.94e+00 | reg: 5.25e+01 :  18%|▋   | 37/200 [02:26<10:43,  3.95s/it]\n"
     ]
    },
    {
     "name": "stdout",
     "output_type": "stream",
     "text": [
      "Early stopping criteria raised\n",
      "checkpoint directory created: ./model\n",
      "saving model version 0.0\n",
      "kfold: 1\n"
     ]
    },
    {
     "name": "stderr",
     "output_type": "stream",
     "text": [
      "trn_ls: 1.84e+00 | vl_ls: 1.95e+00 | e_stop: 20/20 | tst_ls: 1.86e+00 | reg: 6.04e+01 :  18%|▋   | 35/200 [02:17<10:50,  3.94s/it]\n"
     ]
    },
    {
     "name": "stdout",
     "output_type": "stream",
     "text": [
      "Early stopping criteria raised\n",
      "checkpoint directory created: ./model\n",
      "saving model version 0.0\n",
      "kfold: 2\n"
     ]
    },
    {
     "name": "stderr",
     "output_type": "stream",
     "text": [
      "trn_ls: 1.83e+00 | vl_ls: 1.98e+00 | e_stop: 20/20 | tst_ls: 2.04e+00 | reg: 5.66e+01 :  16%|▋   | 32/200 [02:09<11:17,  4.04s/it]\n"
     ]
    },
    {
     "name": "stdout",
     "output_type": "stream",
     "text": [
      "Early stopping criteria raised\n",
      "checkpoint directory created: ./model\n",
      "saving model version 0.0\n",
      "kfold: 3\n"
     ]
    },
    {
     "name": "stderr",
     "output_type": "stream",
     "text": [
      "trn_ls: 1.82e+00 | vl_ls: 1.91e+00 | e_stop: 20/20 | tst_ls: 2.20e+00 | reg: 5.18e+01 :  16%|▋   | 32/200 [02:08<11:12,  4.00s/it]\n"
     ]
    },
    {
     "name": "stdout",
     "output_type": "stream",
     "text": [
      "Early stopping criteria raised\n",
      "checkpoint directory created: ./model\n",
      "saving model version 0.0\n",
      "kfold: 4\n"
     ]
    },
    {
     "name": "stderr",
     "output_type": "stream",
     "text": [
      "trn_ls: 1.96e+00 | vl_ls: 1.99e+00 | e_stop: 0/20 | tst_ls: 1.93e+00 | reg: 2.63e+01 :   0%|      | 1/200 [00:04<16:29,  4.97s/it]"
     ]
    }
   ],
   "source": [
    "l_PR_ION = ['Cu', 'Ni', 'Pb', 'Al', 'Co', 'Cr', 'NO3']\n",
    "input_shape = x.shape[1]\n",
    "\n",
    "n_splits = 10\n",
    "\n",
    "\n",
    "l_d_kan_params = [{'width':[input_shape,5,1], 'grid':3, 'k':3, 'device':device}] * len(l_PR_ION)\n",
    "l_d_train_params = [{'tol': 1e-3, 'n_iter_no_change': 20,'opt': \"LBFGS\", 'steps': 200, 'lr': 1.0}] * len(l_PR_ION)\n",
    "l_x = [x] * len(l_PR_ION)\n",
    "\n",
    "l_y = []\n",
    "l_y_scaler_multiplier = []\n",
    "for PR_ION in l_PR_ION:\n",
    "    # Choosing certain ion \n",
    "    y = df_norm[[PR_ION]].to_numpy()\n",
    "    # Scaling y before train_test split in cv only because we aprior know the distribution of ions.\n",
    "    scaler_y = MinMaxScaler()\n",
    "    y_all_scaled = scaler_y.fit_transform(y)\n",
    "    y_scaler_multiplier = scaler_y.data_max_[0] - scaler_y.data_min_[0]\n",
    "    l_y_scaler_multiplier.append(y_scaler_multiplier)\n",
    "    \n",
    "\n",
    "l_y = [df_norm[[PR_ION]].to_numpy() for PR_ION in l_PR_ION]\n",
    "\n",
    "kan_exper = kfold_experiment_es(l_x, l_y, l_d_kan_params, l_d_train_params, cv=n_splits)"
   ]
  }
 ],
 "metadata": {
  "kernelspec": {
   "display_name": ".venv",
   "language": "python",
   "name": "python3"
  },
  "language_info": {
   "codemirror_mode": {
    "name": "ipython",
    "version": 3
   },
   "file_extension": ".py",
   "mimetype": "text/x-python",
   "name": "python",
   "nbconvert_exporter": "python",
   "pygments_lexer": "ipython3",
   "version": "3.12.0"
  }
 },
 "nbformat": 4,
 "nbformat_minor": 2
}
